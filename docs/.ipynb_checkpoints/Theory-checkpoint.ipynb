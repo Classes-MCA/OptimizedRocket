{
 "cells": [
  {
   "cell_type": "markdown",
   "metadata": {},
   "source": [
    "# Overall Project Objective"
   ]
  },
  {
   "cell_type": "markdown",
   "metadata": {},
   "source": [
    "The goal of our project is to maximize the amount of fuel inside a rocket after it reaches a certain altitude after traveling with a constant acceleration. We decided to use equal step sizes for the altitude and vary the step sizes in the downrange direction. This amounts to effectively just changing the tilt angle of the rocket relative to the ground, but specifying it in terms of height and downrange position step sizes enabled a simpler optimization model where we could set the start and endpoints easier. Our optimization problem is thus\n",
    "\n",
    "**Objective:**\n",
    "\n",
    "* Maximize the mass of the fuel in the rocket when the rocket has arrived at a set position $(x_{target},y_{target})$ by varying the distance traveled in the x-direction for each iteration.\n",
    "\n",
    "**Constraints:**\n",
    "\n",
    "* The rocket must start at $(x_0,y_0)$ and end at $(x_{target},y_{target})$\n",
    "* The rocket must accelerate with a constant value equal to three times the natural force of gravity on the surface of the Earth (ie. 3 g's)\n",
    "* Each successive step size in the x-direction must be no larger than twice the size of the previous step."
   ]
  },
  {
   "cell_type": "markdown",
   "metadata": {},
   "source": [
    "# Theory"
   ]
  },
  {
   "cell_type": "markdown",
   "metadata": {},
   "source": [
    "## Basic Theory"
   ]
  },
  {
   "cell_type": "markdown",
   "metadata": {},
   "source": [
    "The overall trajectory is expected to look something like this:\n",
    "\n",
    "<img src = \"Figures/Trajectory.jpg\" width = 350>\n",
    "\n",
    "Where again the $\\Delta y$ value is constant, and we are changing the $\\Delta x$ values to reach the top-most location with the maximum amount of fuel left over. Once we formulated it in this way it began to resemble the Brachistochrone problem.\n",
    "\n",
    "At each iteration, we need to evaluat the forces on the rocket according to the force diagram shown below:\n",
    "\n",
    "<img src = \"Figures/Force Diagram.jpg\" width = 350>\n",
    "\n",
    "For each iteration, we use the final values from the previous iteration to calcualte the drag as a function of altitude and velocity. The gravitational force is calculated using the mass of the rocket at the end of the previous iteration. The theta angle is calculated using the $\\Delta x$ and $\\Delta y$ values. Then the required thrust  to maintain a constant acceleration of 3 g's is calculated from the diagram. The velocity of the gas is set, and so we are able to then calculate how much fuel mass must be expended on the current iteration."
   ]
  },
  {
   "cell_type": "markdown",
   "metadata": {},
   "source": [
    "## Detailed Theory"
   ]
  },
  {
   "cell_type": "markdown",
   "metadata": {},
   "source": [
    "### Calculating Drag"
   ]
  },
  {
   "cell_type": "markdown",
   "metadata": {},
   "source": [
    "#### Atmosphere Model"
   ]
  },
  {
   "cell_type": "markdown",
   "metadata": {},
   "source": [
    "The atmosphere is modeled as a function of the height in kilometers as:\n",
    "\n",
    "$$T(h) = T_{sl} - 71.5 + 2 \\ln \\left[ 1 + \\exp(35.75 - 3.25 h) + \\exp(-3 + 0.0003 h^3) \\right]$$\n",
    "\n",
    "$$p(h) = p_{sl} \\exp \\left(-0.118 h - \\frac{0.0015 h^2}{1 - 0.018 h + 0.0011 h^3}\\right)$$\n",
    "\n",
    "where\n",
    "\n",
    "* $h$ = the altitude in kilometers\n",
    "* $T$ = the temperature in Kelvin\n",
    "* $T_{sl}$ = the temperature at sea level\n",
    "* $p$ = the pressure in Pascals\n",
    "* $p_{sl}$ = the pressure at sea level\n",
    "\n",
    "This model is only valid up to 42 kilometers, but we are working on a way to extend that if we can.\n",
    "\n",
    "This model produces the following profiles up to 42 kilometers:\n",
    "\n",
    "<img src = \"Figures/Standard Atmosphere - Temperature.png\" width = 400>\n",
    "<img src = \"Figures/Standard Atmosphere - Pressure.png\" width = 400>\n",
    "<img src = \"Figures/Standard Atmosphere - Density.png\" width = 400>\n",
    "<img src = \"Figures/Standard Atmosphere - Sound Speed.png\" width = 400>"
   ]
  },
  {
   "cell_type": "markdown",
   "metadata": {},
   "source": [
    "#### Calculating the drag"
   ]
  },
  {
   "cell_type": "markdown",
   "metadata": {},
   "source": [
    "Ultimately we hope to be able to use the rocket dimensions to calculate both the subsonic and the supersonic drag on it, but for now we are just using approximate expressions that result in the following model:\n",
    "\n",
    "<img src = \"Figures/Rocket Drag.png\" width = 400>\n",
    "\n",
    "We recognize that the drag order of magnitude is likely much smaller than would be expected in reality, but this overall curve uses the atmospheric calculations shown above to help calculate a rough estimate for the overall drag shape as a function of height and velocity. We see that even at high speeds, the drag decreases substantially at higher alitudes, which is as expected."
   ]
  },
  {
   "cell_type": "markdown",
   "metadata": {},
   "source": [
    "### Calculating $\\theta$"
   ]
  },
  {
   "cell_type": "markdown",
   "metadata": {},
   "source": [
    "$\\theta$ represents the tilt angle of the rocket relative to its initial takeoff orientation (ie $0^\\circ$ means it is pointed straight up and $90^\\circ$ means it is oriented horizontal). It is calculated using the $\\Delta x$ and $\\Delta y$ values on the current iteration as:\n",
    "\n",
    "$$\\boxed{\\theta = \\tan^{-1} \\left( \\frac{\\Delta x}{\\Delta y} \\right)}$$"
   ]
  },
  {
   "cell_type": "markdown",
   "metadata": {},
   "source": [
    "### Calculating Gravity"
   ]
  },
  {
   "cell_type": "markdown",
   "metadata": {},
   "source": [
    "We could calculate the gravitational acceleration as a function of height, but we are going to stick with a contant acceleration due to gravity of $g = 9.8 \\textrm{ m/s}^2$.\n",
    "\n",
    "However, the mass of the rocket is indeed changing, and so the force of gravity on the rocket is also changing. We will use the mass at the end of the previous iteration as our estimate of the rocket's current mass. Mathematically, the force of gravity is therefore\n",
    "\n",
    "$$\\boxed{F_g = m g}$$\n",
    "\n",
    "where $m$ is the mass of the rocket after the previous iteration."
   ]
  },
  {
   "cell_type": "markdown",
   "metadata": {},
   "source": [
    "### Calculating Thrust"
   ]
  },
  {
   "cell_type": "markdown",
   "metadata": {},
   "source": [
    "The thrust must vary such that we maintain a constant acceleration. In order to solve for it we will use Newton's second law in vector form\n",
    "\n",
    "$$\\sum \\vec{F} = m \\vec{a}$$\n",
    "\n",
    "$$\\vec{F_g} + \\vec{F_D} + \\vec{F_T} = m \\vec{a}$$\n",
    "\n",
    "where\n",
    "\n",
    "* $\\vec{F_g}$ = the force of gravity\n",
    "* $\\vec{F_D}$ = the drag force\n",
    "* $\\vec{F_T}$ = the thrust force\n",
    "* $m$ = the mass of the rocket\n",
    "* $\\vec{a}$ = the acceleration of the rocket\n",
    "\n",
    "Adding in the two-dimensional components of each vector, we arrive at\n",
    "\n",
    "$$\\begin{bmatrix} 0 \\\\ - m g \\end{bmatrix} + \n",
    "\\begin{bmatrix} - D  \\sin \\theta \\\\ - D \\cos \\theta \\end{bmatrix} + \n",
    "\\begin{bmatrix} T \\sin \\theta \\\\ T \\cos \\theta \\end{bmatrix} = m\n",
    "\\begin{bmatrix} a \\sin \\theta \\\\ a \\cos \\theta \\end{bmatrix}\n",
    "$$\n",
    "\n",
    "$$\\begin{bmatrix} T \\sin \\theta - D \\sin \\theta \\\\ T \\cos \\theta - D \\cos \\theta - m g \\end{bmatrix} = m \\begin{bmatrix} a \\sin \\theta \\\\ a \\cos \\theta \\end{bmatrix}$$\n",
    "\n",
    "Where $D$ is the total drag force and $T$ is the total thrust force. Substituting $T_x = T \\sin \\theta$ and $T_y = T \\cos \\theta$,\n",
    "\n",
    "$$\\begin{bmatrix} T_x - D \\sin \\theta \\\\ T_y - D \\cos \\theta - m g \\end{bmatrix} = m \\begin{bmatrix} a \\sin \\theta \\\\ a \\cos \\theta \\end{bmatrix}$$\n",
    "\n",
    "Solving for $T_x$ and $T_y$ gives the following solutions\n",
    "\n",
    "$$\\boxed{T_x = (m a + D) \\sin \\theta}$$\n",
    "\n",
    "$$\\boxed{T_y = (ma + D) \\cos \\theta + m g}$$\n",
    "\n",
    "The final expression for the thrust is then\n",
    "\n",
    "$$\\boxed{T = \\sqrt{T_x^2 + T_y^2}}$$\n",
    "\n",
    "where $T_x$ and $T_y$ are as defined above."
   ]
  },
  {
   "cell_type": "markdown",
   "metadata": {},
   "source": [
    "### Calculating Mass"
   ]
  },
  {
   "cell_type": "markdown",
   "metadata": {},
   "source": [
    "On each iteration, we shoot mass out of the back of the rocket. Now that we know the thrust, we can solve for this amount of mass. We will use a simplified model for thrust as we solve for mass that does not account for nozzle shape:\n",
    "\n",
    "$$T = \\dot{m} V_e$$\n",
    "\n",
    "where\n",
    "\n",
    "* $T$ = the thrust (solved for above)\n",
    "* $\\dot{m}$ = the mass flow rate\n",
    "* $V_e$ = the mass exit velocity\n",
    "\n",
    "We can now discretize this to use finite time steps when solving for $\\dot{m}$:\n",
    "\n",
    "$$T = \\frac{\\Delta m}{\\Delta t} V_e$$\n",
    "\n",
    "$$\\Delta m = \\frac{T}{V_e} \\Delta t$$\n",
    "\n",
    "We can solve for the value of $\\Delta t$ if we say\n",
    "\n",
    "$$\\Delta t = \\frac{\\Delta r}{v}$$\n",
    "\n",
    "where\n",
    "\n",
    "* $\\Delta r$ is the displacement\n",
    "* $v$ = the velocity of the rocket\n",
    "\n",
    "Writing this expression in terms of things that we know gives\n",
    "\n",
    "$$\\Delta t = \\frac{\\sqrt{(\\Delta x)^2 + (\\Delta y)^2}}{v}$$\n",
    "\n",
    "Therefore,\n",
    "\n",
    "$$\\boxed{\\Delta m = \\frac{T}{V_e} \\frac{\\sqrt{(\\Delta x)^2 + (\\Delta y)^2}}{v}}$$"
   ]
  },
  {
   "cell_type": "markdown",
   "metadata": {},
   "source": [
    "# Objective Function Overview"
   ]
  },
  {
   "cell_type": "markdown",
   "metadata": {},
   "source": [
    "The objective function must take in an input array of $\\Delta x$ values and output a total amount of fuel left in the rocket.\n",
    "\n",
    "**for** i = 1:length(x0)\n",
    "* get previous iteration values for velocity, height, and mass\n",
    "    * should just be stored as variables from one iteration to the next\n",
    "    * initial values are that the velocity and height are both zero and the mass is the total mass of the rocket when fully fueled up\n",
    "    * height can be solved for by just multiplying the iteration variable by the value of $\\Delta y$ (ie. height = i * $\\Delta y$)\n",
    "* calculate the tilt angle\n",
    "    * $\\Delta x$\n",
    "    * $\\Delta y$\n",
    "* calculate the drag\n",
    "    * velocity\n",
    "    * height\n",
    "* calculate the thrust\n",
    "    * mass\n",
    "    * acceleration $(a = 3 g)$\n",
    "    * theta\n",
    "* calculate the change in mass over this current iteration\n",
    "    * thrust\n",
    "    * $\\Delta x$\n",
    "    * $\\Delta y$\n",
    "    * velocity\n",
    "        * solved for using the iteration variable, since our acceleration is the same on each iteration (ie. velocity = i * acceleration)"
   ]
  }
 ],
 "metadata": {
  "kernelspec": {
   "display_name": "Python 3",
   "language": "python",
   "name": "python3"
  },
  "language_info": {
   "codemirror_mode": {
    "name": "ipython",
    "version": 3
   },
   "file_extension": ".py",
   "mimetype": "text/x-python",
   "name": "python",
   "nbconvert_exporter": "python",
   "pygments_lexer": "ipython3",
   "version": "3.8.5"
  },
  "latex_envs": {
   "LaTeX_envs_menu_present": true,
   "autoclose": true,
   "autocomplete": true,
   "bibliofile": "biblio.bib",
   "cite_by": "apalike",
   "current_citInitial": 1,
   "eqLabelWithNumbers": true,
   "eqNumInitial": 1,
   "hotkeys": {
    "equation": "Ctrl-E",
    "itemize": "Ctrl-I"
   },
   "labels_anchors": false,
   "latex_user_defs": false,
   "report_style_numbering": false,
   "user_envs_cfg": false
  },
  "varInspector": {
   "cols": {
    "lenName": 16,
    "lenType": 16,
    "lenVar": 40
   },
   "kernels_config": {
    "python": {
     "delete_cmd_postfix": "",
     "delete_cmd_prefix": "del ",
     "library": "var_list.py",
     "varRefreshCmd": "print(var_dic_list())"
    },
    "r": {
     "delete_cmd_postfix": ") ",
     "delete_cmd_prefix": "rm(",
     "library": "var_list.r",
     "varRefreshCmd": "cat(var_dic_list()) "
    }
   },
   "types_to_exclude": [
    "module",
    "function",
    "builtin_function_or_method",
    "instance",
    "_Feature"
   ],
   "window_display": false
  }
 },
 "nbformat": 4,
 "nbformat_minor": 4
}
